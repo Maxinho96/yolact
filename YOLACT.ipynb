{
 "cells": [
  {
   "cell_type": "markdown",
   "metadata": {
    "colab_type": "text",
    "id": "YWzKi-xiGX-i"
   },
   "source": [
    "# YOLACT Google Colab Notebook"
   ]
  },
  {
   "cell_type": "markdown",
   "metadata": {
    "colab_type": "text",
    "id": "AdA08pp_P-K8"
   },
   "source": [
    "# Run Inference on Video\n"
   ]
  },
  {
   "cell_type": "code",
   "execution_count": 11,
   "metadata": {
    "colab": {
     "base_uri": "https://localhost:8080/",
     "height": 139
    },
    "colab_type": "code",
    "executionInfo": {
     "elapsed": 51766,
     "status": "ok",
     "timestamp": 1583926581448,
     "user": {
      "displayName": "Massimiliano Bruni",
      "photoUrl": "https://lh3.googleusercontent.com/a-/AOh14Gjd0ZdLh3uO5WPmF3BVkqF4IR9eGMHGfL_V558yxw=s64",
      "userId": "05343770827636047489"
     },
     "user_tz": -60
    },
    "id": "5BBQqP3FQ0wN",
    "outputId": "df07032d-e941-4e9a-ceda-fee460202c86",
    "scrolled": true
   },
   "outputs": [
    {
     "name": "stdout",
     "output_type": "stream",
     "text": [
      "Config not specified. Parsed yolact_plus_resnet50_config from the file name.\n",
      "\n",
      "Loading model... Done.\n",
      "Initializing model... Done.\n",
      "\n",
      "Processing FPS: 0.00 | Video Playback FPS: 9.34 | Frames in Buffer: 0    %)     9.34 fps        \n"
     ]
    }
   ],
   "source": [
    "file_path = \"data/video.mp4\"\n",
    "output_path = \"data/video_output.mp4\"\n",
    "!python eval.py --trained_model=weights/yolact_plus_resnet50_54_800000.pth --score_threshold=0.15 --top_k=15 --video={file_path}:{output_path}"
   ]
  },
  {
   "cell_type": "markdown",
   "metadata": {
    "colab_type": "text",
    "id": "RkFkBITGfG96"
   },
   "source": [
    "# Evaluate the model pretrained on the whole 80 classes"
   ]
  },
  {
   "cell_type": "markdown",
   "metadata": {
    "colab_type": "text",
    "id": "GpxdPRwYVEFn"
   },
   "source": [
    "## COCO val"
   ]
  },
  {
   "cell_type": "markdown",
   "metadata": {
    "colab_type": "text",
    "id": "ShnX3VOmyP5u"
   },
   "source": [
    "Evaluate on COCO val\n"
   ]
  },
  {
   "cell_type": "code",
   "execution_count": 2,
   "metadata": {
    "colab": {
     "base_uri": "https://localhost:8080/",
     "height": 340
    },
    "colab_type": "code",
    "executionInfo": {
     "elapsed": 1058876,
     "status": "ok",
     "timestamp": 1583955692544,
     "user": {
      "displayName": "Massimiliano Bruni",
      "photoUrl": "https://lh3.googleusercontent.com/a-/AOh14Gjd0ZdLh3uO5WPmF3BVkqF4IR9eGMHGfL_V558yxw=s64",
      "userId": "05343770827636047489"
     },
     "user_tz": -60
    },
    "id": "du2hvWBiyQkI",
    "outputId": "a1968914-aace-403e-d46b-d0d9a44cfdb0"
   },
   "outputs": [
    {
     "name": "stdout",
     "output_type": "stream",
     "text": [
      "Config not specified. Parsed yolact_plus_resnet50_config from the file name.\n",
      "\n",
      "loading annotations into memory...\n",
      "Done (t=0.45s)\n",
      "creating index...\n",
      "index created!\n",
      "Loading model... Done.\n",
      "\n",
      "Processing Images  ██████████████████████████████   4952 /   4952 (100.00%)     6.25 fps        \n",
      "Saving data...\n",
      "Calculating mAP...\n",
      "\n",
      "       |  all  |  .50  |  .55  |  .60  |  .65  |  .70  |  .75  |  .80  |  .85  |  .90  |  .95  |\n",
      "-------+-------+-------+-------+-------+-------+-------+-------+-------+-------+-------+-------+\n",
      "   box | 34.94 | 55.41 | 53.17 | 50.49 | 47.40 | 43.20 | 37.83 | 30.48 | 20.95 |  9.30 |  1.15 |\n",
      "  mask | 33.69 | 52.72 | 50.23 | 47.29 | 44.45 | 40.50 | 35.59 | 29.91 | 21.88 | 11.93 |  2.43 |\n",
      "-------+-------+-------+-------+-------+-------+-------+-------+-------+-------+-------+-------+\n",
      "\n"
     ]
    }
   ],
   "source": [
    "!python eval.py --trained_model=weights/yolact_plus_resnet50_54_800000.pth"
   ]
  },
  {
   "cell_type": "markdown",
   "metadata": {
    "colab_type": "text",
    "id": "A5BfrIHEVH5G"
   },
   "source": [
    "## COCO test-dev"
   ]
  },
  {
   "cell_type": "markdown",
   "metadata": {
    "colab_type": "text",
    "id": "YR3uQEwdkB9c"
   },
   "source": [
    "Evaluate on COCO test-dev\n"
   ]
  },
  {
   "cell_type": "code",
   "execution_count": 12,
   "metadata": {
    "colab": {
     "base_uri": "https://localhost:8080/",
     "height": 306
    },
    "colab_type": "code",
    "executionInfo": {
     "elapsed": 7692,
     "status": "ok",
     "timestamp": 1583959699001,
     "user": {
      "displayName": "Massimiliano Bruni",
      "photoUrl": "https://lh3.googleusercontent.com/a-/AOh14Gjd0ZdLh3uO5WPmF3BVkqF4IR9eGMHGfL_V558yxw=s64",
      "userId": "05343770827636047489"
     },
     "user_tz": -60
    },
    "id": "lmFTV9uslmZh",
    "outputId": "6414ce52-6635-49bf-ad20-f1bbf1a8005d",
    "scrolled": true
   },
   "outputs": [
    {
     "name": "stdout",
     "output_type": "stream",
     "text": [
      "[Errno 2] No such file or directory: '/content/yolact'\n",
      "/media/max/Storage/Codice/yolact\n",
      "Config not specified. Parsed yolact_plus_resnet50_config from the file name.\n",
      "\n",
      "loading annotations into memory...\n",
      "Done (t=0.38s)\n",
      "creating index...\n",
      "index created!\n",
      "Loading model... Done.\n",
      "\n",
      "Processing Images  ░░░░░░░░░░░░░░░░░░░░░░░░░░░░░░     64 /  20288 ( 0.32%)     3.83 fps        ^C\n",
      "Stopping...\n"
     ]
    }
   ],
   "source": [
    "!python eval.py --trained_model=weights/yolact_plus_resnet50_54_800000.pth --dataset=coco2017_testdev_dataset --output_coco_json"
   ]
  },
  {
   "cell_type": "markdown",
   "metadata": {
    "colab_type": "text",
    "id": "lwxgZpcfVOtX"
   },
   "source": [
    "## COCO Person val"
   ]
  },
  {
   "cell_type": "markdown",
   "metadata": {},
   "source": [
    "Evaluate on COCO Person val"
   ]
  },
  {
   "cell_type": "code",
   "execution_count": 1,
   "metadata": {},
   "outputs": [
    {
     "name": "stdout",
     "output_type": "stream",
     "text": [
      "loading annotations into memory...\n",
      "Done (t=0.28s)\n",
      "creating index...\n",
      "index created!\n",
      "Loading model... Done.\n",
      "\n",
      "Processing Images  ███░░░░░░░░░░░░░░░░░░░░░░░░░░░    302 /   2693 (11.21%)     7.81 fps        Warning: Augmentation output an example with no ground truth. Resampling...\n",
      "Processing Images  █████████░░░░░░░░░░░░░░░░░░░░░    863 /   2693 (32.05%)     7.75 fps        Warning: Augmentation output an example with no ground truth. Resampling...\n",
      "Processing Images  ██████████████████████████████   2693 /   2693 (100.00%)     7.11 fps        \n",
      "Saving data...\n",
      "Calculating mAP...\n",
      "\n",
      "       |  all  |  .50  |  .55  |  .60  |  .65  |  .70  |  .75  |  .80  |  .85  |  .90  |  .95  |\n",
      "-------+-------+-------+-------+-------+-------+-------+-------+-------+-------+-------+-------+\n",
      "   box | 41.22 | 68.68 | 65.89 | 62.16 | 57.05 | 50.97 | 42.75 | 33.42 | 21.59 |  9.14 |  0.59 |\n",
      "  mask | 37.45 | 64.16 | 60.82 | 56.97 | 52.01 | 46.07 | 38.70 | 28.97 | 18.23 |  7.35 |  1.20 |\n",
      "-------+-------+-------+-------+-------+-------+-------+-------+-------+-------+-------+-------+\n",
      "\n"
     ]
    }
   ],
   "source": [
    "!python eval.py --trained_model=weights/yolact_plus_resnet50_54_800000.pth --config=yolact_plus_resnet50_person_config --only_person"
   ]
  },
  {
   "cell_type": "markdown",
   "metadata": {},
   "source": [
    "# Train the model only on person class"
   ]
  },
  {
   "cell_type": "code",
   "execution_count": 7,
   "metadata": {},
   "outputs": [
    {
     "name": "stdout",
     "output_type": "stream",
     "text": [
      "loading annotations into memory...\n",
      "Done (t=2.49s)\n",
      "creating index...\n",
      "index created!\n",
      "loading annotations into memory...\n",
      "Done (t=1.60s)\n",
      "creating index...\n",
      "index created!\n",
      "Resuming training, loading weights/yolact_plus_resnet50_54_800000.pth...\n",
      "Begin training!\n",
      "\n",
      "Traceback (most recent call last):\n",
      "  File \"train.py\", line 509, in <module>\n",
      "    train()\n",
      "  File \"train.py\", line 309, in train\n",
      "    losses = net(datum)\n",
      "  File \"/home/max/anaconda3/envs/yolact-env/lib/python3.7/site-packages/torch/nn/modules/module.py\", line 532, in __call__\n",
      "    result = self.forward(*input, **kwargs)\n",
      "  File \"/home/max/anaconda3/envs/yolact-env/lib/python3.7/site-packages/torch/nn/parallel/data_parallel.py\", line 150, in forward\n",
      "    return self.module(*inputs[0], **kwargs[0])\n",
      "  File \"/home/max/anaconda3/envs/yolact-env/lib/python3.7/site-packages/torch/nn/modules/module.py\", line 532, in __call__\n",
      "    result = self.forward(*input, **kwargs)\n",
      "  File \"train.py\", line 147, in forward\n",
      "    preds = self.net(images)\n",
      "  File \"/home/max/anaconda3/envs/yolact-env/lib/python3.7/site-packages/torch/nn/modules/module.py\", line 532, in __call__\n",
      "    result = self.forward(*input, **kwargs)\n",
      "  File \"/media/max/Storage/Codice/yolact/yolact.py\", line 577, in forward\n",
      "    outs = self.backbone(x)\n",
      "  File \"/home/max/anaconda3/envs/yolact-env/lib/python3.7/site-packages/torch/nn/modules/module.py\", line 532, in __call__\n",
      "    result = self.forward(*input, **kwargs)\n",
      "  File \"/media/max/Storage/Codice/yolact/backbone.py\", line 136, in forward\n",
      "    x = layer(x)\n",
      "  File \"/home/max/anaconda3/envs/yolact-env/lib/python3.7/site-packages/torch/nn/modules/module.py\", line 532, in __call__\n",
      "    result = self.forward(*input, **kwargs)\n",
      "  File \"/home/max/anaconda3/envs/yolact-env/lib/python3.7/site-packages/torch/nn/modules/container.py\", line 100, in forward\n",
      "    input = module(input)\n",
      "  File \"/home/max/anaconda3/envs/yolact-env/lib/python3.7/site-packages/torch/nn/modules/module.py\", line 532, in __call__\n",
      "    result = self.forward(*input, **kwargs)\n",
      "  File \"/media/max/Storage/Codice/yolact/backbone.py\", line 41, in forward\n",
      "    out = self.bn1(out)\n",
      "  File \"/home/max/anaconda3/envs/yolact-env/lib/python3.7/site-packages/torch/nn/modules/module.py\", line 532, in __call__\n",
      "    result = self.forward(*input, **kwargs)\n",
      "  File \"/home/max/anaconda3/envs/yolact-env/lib/python3.7/site-packages/torch/nn/modules/batchnorm.py\", line 107, in forward\n",
      "    exponential_average_factor, self.eps)\n",
      "  File \"/home/max/anaconda3/envs/yolact-env/lib/python3.7/site-packages/torch/nn/functional.py\", line 1670, in batch_norm\n",
      "    training, momentum, eps, torch.backends.cudnn.enabled\n",
      "RuntimeError: CUDA out of memory. Tried to allocate 76.00 MiB (GPU 0; 2.95 GiB total capacity; 2.13 GiB already allocated; 32.00 MiB free; 2.15 GiB reserved in total by PyTorch)\n"
     ]
    }
   ],
   "source": [
    "# max_iter=20000\n",
    "# lr_steps=(.35 * 20000, .75 * 20000, .88 * 40000, .93 * 20000)\n",
    "!python train.py --config=yolact_plus_resnet50_ochuman_config --resume=weights/yolact_plus_resnet50_54_800000.pth --eval_only_person --start_iter=0 --batch_size=8 --save_interval=100 --lr=1e-3 --momentum=0.9 --decay=5e-4 --gamma=0.1"
   ]
  },
  {
   "cell_type": "markdown",
   "metadata": {},
   "source": [
    "# Evaluate the model trained only on the person class"
   ]
  },
  {
   "cell_type": "markdown",
   "metadata": {},
   "source": [
    "Evaluate on COCO Person val"
   ]
  },
  {
   "cell_type": "code",
   "execution_count": 9,
   "metadata": {},
   "outputs": [
    {
     "name": "stdout",
     "output_type": "stream",
     "text": [
      "Config not specified. Parsed yolact_plus_resnet50_person_config from the file name.\n",
      "\n",
      "loading annotations into memory...\n",
      "Done (t=0.28s)\n",
      "creating index...\n",
      "index created!\n",
      "Loading model... Done.\n",
      "\n",
      "Processing Images  ███░░░░░░░░░░░░░░░░░░░░░░░░░░░    302 /   2693 (11.21%)     6.98 fps        Warning: Augmentation output an example with no ground truth. Resampling...\n",
      "Processing Images  █████████░░░░░░░░░░░░░░░░░░░░░    863 /   2693 (32.05%)     7.17 fps        Warning: Augmentation output an example with no ground truth. Resampling...\n",
      "Processing Images  ██████████████████████████████   2693 /   2693 (100.00%)     8.03 fps        \n",
      "Saving data...\n",
      "Calculating mAP...\n",
      "\n",
      "       |  all  |  .50  |  .55  |  .60  |  .65  |  .70  |  .75  |  .80  |  .85  |  .90  |  .95  |\n",
      "-------+-------+-------+-------+-------+-------+-------+-------+-------+-------+-------+-------+\n",
      "   box | 38.91 | 66.20 | 63.26 | 59.25 | 54.42 | 48.26 | 40.28 | 31.00 | 19.30 |  6.81 |  0.35 |\n",
      "  mask | 35.79 | 62.37 | 58.91 | 55.23 | 50.39 | 44.21 | 36.43 | 27.00 | 16.38 |  6.34 |  0.59 |\n",
      "-------+-------+-------+-------+-------+-------+-------+-------+-------+-------+-------+-------+\n",
      "\n"
     ]
    }
   ],
   "source": [
    "!python eval.py --trained_model=weights/yolact_plus_resnet50_person_0_1400.pth --config=yolact_plus_resnet50_person_config --only_person"
   ]
  }
 ],
 "metadata": {
  "accelerator": "GPU",
  "colab": {
   "collapsed_sections": [
    "RytTtzjjKVXQ",
    "FzviTOC-NlH2",
    "AdA08pp_P-K8"
   ],
   "name": "YOLACT.ipynb",
   "provenance": [
    {
     "file_id": "1ncRxvmNR-iTtQCscj2UFSGV8ZQX_LN0M",
     "timestamp": 1583925601088
    }
   ]
  },
  "kernelspec": {
   "display_name": "Python 3",
   "language": "python",
   "name": "python3"
  },
  "language_info": {
   "codemirror_mode": {
    "name": "ipython",
    "version": 3
   },
   "file_extension": ".py",
   "mimetype": "text/x-python",
   "name": "python",
   "nbconvert_exporter": "python",
   "pygments_lexer": "ipython3",
   "version": "3.7.0"
  }
 },
 "nbformat": 4,
 "nbformat_minor": 1
}
