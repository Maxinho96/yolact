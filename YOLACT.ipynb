{
 "cells": [
  {
   "cell_type": "markdown",
   "metadata": {
    "colab_type": "text",
    "id": "YWzKi-xiGX-i"
   },
   "source": [
    "# YOLACT Google Colab Notebook"
   ]
  },
  {
   "cell_type": "markdown",
   "metadata": {
    "colab_type": "text",
    "id": "AdA08pp_P-K8"
   },
   "source": [
    "# Run Inference on Video\n"
   ]
  },
  {
   "cell_type": "code",
   "execution_count": 11,
   "metadata": {
    "colab": {
     "base_uri": "https://localhost:8080/",
     "height": 139
    },
    "colab_type": "code",
    "executionInfo": {
     "elapsed": 51766,
     "status": "ok",
     "timestamp": 1583926581448,
     "user": {
      "displayName": "Massimiliano Bruni",
      "photoUrl": "https://lh3.googleusercontent.com/a-/AOh14Gjd0ZdLh3uO5WPmF3BVkqF4IR9eGMHGfL_V558yxw=s64",
      "userId": "05343770827636047489"
     },
     "user_tz": -60
    },
    "id": "5BBQqP3FQ0wN",
    "outputId": "df07032d-e941-4e9a-ceda-fee460202c86",
    "scrolled": true
   },
   "outputs": [
    {
     "name": "stdout",
     "output_type": "stream",
     "text": [
      "Config not specified. Parsed yolact_plus_resnet50_config from the file name.\n",
      "\n",
      "Loading model... Done.\n",
      "Initializing model... Done.\n",
      "\n",
      "Processing FPS: 0.00 | Video Playback FPS: 9.34 | Frames in Buffer: 0    %)     9.34 fps        \n"
     ]
    }
   ],
   "source": [
    "file_path = \"data/video.mp4\"\n",
    "output_path = \"data/video_output.mp4\"\n",
    "!python eval.py --trained_model=weights/yolact_plus_resnet50_54_800000.pth --score_threshold=0.15 --top_k=15 --video={file_path}:{output_path}"
   ]
  },
  {
   "cell_type": "markdown",
   "metadata": {
    "colab_type": "text",
    "id": "RkFkBITGfG96"
   },
   "source": [
    "# Evaluate the model pretrained on the whole 80 classes"
   ]
  },
  {
   "cell_type": "markdown",
   "metadata": {
    "colab_type": "text",
    "id": "GpxdPRwYVEFn"
   },
   "source": [
    "## COCO val"
   ]
  },
  {
   "cell_type": "markdown",
   "metadata": {
    "colab_type": "text",
    "id": "ShnX3VOmyP5u"
   },
   "source": [
    "Evaluate on COCO val\n"
   ]
  },
  {
   "cell_type": "code",
   "execution_count": 2,
   "metadata": {
    "colab": {
     "base_uri": "https://localhost:8080/",
     "height": 340
    },
    "colab_type": "code",
    "executionInfo": {
     "elapsed": 1058876,
     "status": "ok",
     "timestamp": 1583955692544,
     "user": {
      "displayName": "Massimiliano Bruni",
      "photoUrl": "https://lh3.googleusercontent.com/a-/AOh14Gjd0ZdLh3uO5WPmF3BVkqF4IR9eGMHGfL_V558yxw=s64",
      "userId": "05343770827636047489"
     },
     "user_tz": -60
    },
    "id": "du2hvWBiyQkI",
    "outputId": "a1968914-aace-403e-d46b-d0d9a44cfdb0"
   },
   "outputs": [
    {
     "name": "stdout",
     "output_type": "stream",
     "text": [
      "Config not specified. Parsed yolact_plus_resnet50_config from the file name.\n",
      "\n",
      "loading annotations into memory...\n",
      "Done (t=0.45s)\n",
      "creating index...\n",
      "index created!\n",
      "Loading model... Done.\n",
      "\n",
      "Processing Images  ██████████████████████████████   4952 /   4952 (100.00%)     6.25 fps        \n",
      "Saving data...\n",
      "Calculating mAP...\n",
      "\n",
      "       |  all  |  .50  |  .55  |  .60  |  .65  |  .70  |  .75  |  .80  |  .85  |  .90  |  .95  |\n",
      "-------+-------+-------+-------+-------+-------+-------+-------+-------+-------+-------+-------+\n",
      "   box | 34.94 | 55.41 | 53.17 | 50.49 | 47.40 | 43.20 | 37.83 | 30.48 | 20.95 |  9.30 |  1.15 |\n",
      "  mask | 33.69 | 52.72 | 50.23 | 47.29 | 44.45 | 40.50 | 35.59 | 29.91 | 21.88 | 11.93 |  2.43 |\n",
      "-------+-------+-------+-------+-------+-------+-------+-------+-------+-------+-------+-------+\n",
      "\n"
     ]
    }
   ],
   "source": [
    "!python eval.py --trained_model=weights/yolact_plus_resnet50_54_800000.pth"
   ]
  },
  {
   "cell_type": "markdown",
   "metadata": {
    "colab_type": "text",
    "id": "A5BfrIHEVH5G"
   },
   "source": [
    "## COCO test-dev"
   ]
  },
  {
   "cell_type": "markdown",
   "metadata": {
    "colab_type": "text",
    "id": "YR3uQEwdkB9c"
   },
   "source": [
    "Evaluate on COCO test-dev\n"
   ]
  },
  {
   "cell_type": "code",
   "execution_count": 12,
   "metadata": {
    "colab": {
     "base_uri": "https://localhost:8080/",
     "height": 306
    },
    "colab_type": "code",
    "executionInfo": {
     "elapsed": 7692,
     "status": "ok",
     "timestamp": 1583959699001,
     "user": {
      "displayName": "Massimiliano Bruni",
      "photoUrl": "https://lh3.googleusercontent.com/a-/AOh14Gjd0ZdLh3uO5WPmF3BVkqF4IR9eGMHGfL_V558yxw=s64",
      "userId": "05343770827636047489"
     },
     "user_tz": -60
    },
    "id": "lmFTV9uslmZh",
    "outputId": "6414ce52-6635-49bf-ad20-f1bbf1a8005d",
    "scrolled": true
   },
   "outputs": [
    {
     "name": "stdout",
     "output_type": "stream",
     "text": [
      "[Errno 2] No such file or directory: '/content/yolact'\n",
      "/media/max/Storage/Codice/yolact\n",
      "Config not specified. Parsed yolact_plus_resnet50_config from the file name.\n",
      "\n",
      "loading annotations into memory...\n",
      "Done (t=0.38s)\n",
      "creating index...\n",
      "index created!\n",
      "Loading model... Done.\n",
      "\n",
      "Processing Images  ░░░░░░░░░░░░░░░░░░░░░░░░░░░░░░     64 /  20288 ( 0.32%)     3.83 fps        ^C\n",
      "Stopping...\n"
     ]
    }
   ],
   "source": [
    "!python eval.py --trained_model=weights/yolact_plus_resnet50_54_800000.pth --dataset=coco2017_testdev_dataset --output_coco_json"
   ]
  },
  {
   "cell_type": "markdown",
   "metadata": {
    "colab_type": "text",
    "id": "lwxgZpcfVOtX"
   },
   "source": [
    "## COCO val person"
   ]
  },
  {
   "cell_type": "markdown",
   "metadata": {},
   "source": [
    "Evaluate on COCO val person"
   ]
  },
  {
   "cell_type": "code",
   "execution_count": 24,
   "metadata": {
    "colab": {
     "base_uri": "https://localhost:8080/",
     "height": 392
    },
    "colab_type": "code",
    "executionInfo": {
     "elapsed": 413138,
     "status": "error",
     "timestamp": 1584012091241,
     "user": {
      "displayName": "Massimiliano Bruni",
      "photoUrl": "https://lh3.googleusercontent.com/a-/AOh14Gjd0ZdLh3uO5WPmF3BVkqF4IR9eGMHGfL_V558yxw=s64",
      "userId": "05343770827636047489"
     },
     "user_tz": -60
    },
    "id": "bD9LHe68ZhT0",
    "outputId": "1a3fa6b6-78c8-4c2b-db30-dcd94fa201be"
   },
   "outputs": [
    {
     "name": "stdout",
     "output_type": "stream",
     "text": [
      "Config not specified. Parsed yolact_plus_resnet50_config from the file name.\n",
      "\n",
      "loading annotations into memory...\n",
      "Done (t=0.30s)\n",
      "creating index...\n",
      "index created!\n",
      "Loading model... Done.\n",
      "\n",
      "Processing Images  ███░░░░░░░░░░░░░░░░░░░░░░░░░░░    302 /   2693 (11.21%)     7.78 fps        Warning: Augmentation output an example with no ground truth. Resampling...\n",
      "Processing Images  █████████░░░░░░░░░░░░░░░░░░░░░    863 /   2693 (32.05%)     7.89 fps        Warning: Augmentation output an example with no ground truth. Resampling...\n",
      "Processing Images  ██████████████████████████████   2693 /   2693 (100.00%)     7.51 fps        \n",
      "Saving data...\n",
      "Calculating mAP...\n",
      "\n",
      "       |  all  |  .50  |  .55  |  .60  |  .65  |  .70  |  .75  |  .80  |  .85  |  .90  |  .95  |\n",
      "-------+-------+-------+-------+-------+-------+-------+-------+-------+-------+-------+-------+\n",
      "   box | 41.23 | 68.68 | 65.88 | 62.16 | 57.06 | 50.98 | 42.76 | 33.46 | 21.61 |  9.16 |  0.60 |\n",
      "  mask | 37.47 | 64.17 | 60.83 | 57.00 | 52.03 | 46.08 | 38.74 | 28.99 | 18.25 |  7.37 |  1.20 |\n",
      "-------+-------+-------+-------+-------+-------+-------+-------+-------+-------+-------+-------+\n",
      "\n"
     ]
    }
   ],
   "source": [
    "!python eval.py --trained_model=weights/yolact_plus_resnet50_54_800000.pth --dataset=coco2017_dataset_person_1"
   ]
  },
  {
   "cell_type": "markdown",
   "metadata": {},
   "source": [
    "# Train the model only on person class"
   ]
  },
  {
   "cell_type": "code",
   "execution_count": 8,
   "metadata": {},
   "outputs": [
    {
     "name": "stdout",
     "output_type": "stream",
     "text": [
      "Scaling parameters by 0.25 to account for a batch size of 2.\n",
      "Per-GPU batch size is less than the recommended limit for batch norm. Disabling batch norm.\n",
      "loading annotations into memory...\n",
      "Done (t=6.18s)\n",
      "creating index...\n",
      "index created!\n",
      "loading annotations into memory...\n",
      "Done (t=0.28s)\n",
      "creating index...\n",
      "index created!\n",
      "Resuming training, loading weights/yolact_plus_resnet50_54_800000.pth...\n",
      "Ignoring \"Error(s) in loading state_dict for Yolact:\n",
      "\tsize mismatch for maskiou_net.maskiou_net.10.weight: copying a param with shape torch.Size([80, 128, 1, 1]) from checkpoint, the shape in current model is torch.Size([1, 128, 1, 1]).\n",
      "\tsize mismatch for maskiou_net.maskiou_net.10.bias: copying a param with shape torch.Size([80]) from checkpoint, the shape in current model is torch.Size([1]).\n",
      "\tsize mismatch for prediction_layers.0.conf_layer.weight: copying a param with shape torch.Size([729, 256, 3, 3]) from checkpoint, the shape in current model is torch.Size([18, 256, 3, 3]).\n",
      "\tsize mismatch for prediction_layers.0.conf_layer.bias: copying a param with shape torch.Size([729]) from checkpoint, the shape in current model is torch.Size([18]).\n",
      "\tsize mismatch for semantic_seg_conv.weight: copying a param with shape torch.Size([80, 256, 1, 1]) from checkpoint, the shape in current model is torch.Size([1, 256, 1, 1]).\n",
      "\tsize mismatch for semantic_seg_conv.bias: copying a param with shape torch.Size([80]) from checkpoint, the shape in current model is torch.Size([1]).\"\n",
      "Begin training!\n",
      "\n",
      "[  0]       0 || B: 0.208 | C: 8.999 | M: 0.611 | S: 0.915 | I: 11.349 | T: 22.081 || ETA: 0:00:00 || timer: 1.997\n",
      "[  0]      10 || B: 1.372 | C: 5.035 | M: 3.159 | S: 0.524 | I: 5.823 | T: 15.914 || ETA: 22:20:29 || timer: 0.498\n",
      "[  0]      20 || B: 1.420 | C: 4.125 | M: 2.989 | S: 0.502 | I: 5.391 | T: 14.426 || ETA: 22:19:40 || timer: 0.479\n",
      "[  0]      30 || B: 1.610 | C: 3.716 | M: 3.102 | S: 0.477 | I: 4.611 | T: 13.517 || ETA: 22:16:35 || timer: 0.489\n",
      "[  0]      40 || B: 1.595 | C: 3.448 | M: 2.933 | S: 0.464 | I: 3.817 | T: 12.256 || ETA: 22:05:45 || timer: 0.481\n",
      "[  0]      50 || B: 1.508 | C: 3.264 | M: 2.786 | S: 0.480 | I: 3.286 | T: 11.324 || ETA: 22:00:37 || timer: 0.512\n",
      "[  0]      60 || B: 1.517 | C: 3.121 | M: 2.705 | S: 0.475 | I: 2.839 | T: 10.656 || ETA: 21:58:30 || timer: 0.481\n",
      "[  0]      70 || B: 1.528 | C: 3.004 | M: 2.655 | S: 0.464 | I: 2.515 | T: 10.166 || ETA: 21:55:12 || timer: 0.481\n",
      "[  0]      80 || B: 1.519 | C: 2.925 | M: 2.644 | S: 0.454 | I: 2.248 | T: 9.789 || ETA: 21:56:08 || timer: 0.501\n",
      "[  0]      90 || B: 1.478 | C: 2.834 | M: 2.566 | S: 0.439 | I: 2.054 | T: 9.370 || ETA: 21:55:21 || timer: 0.524\n",
      "Saving state, iter: 100\n",
      "[  0]     100 || B: 1.474 | C: 2.696 | M: 2.582 | S: 0.422 | I: 1.777 | T: 8.950 || ETA: 22:16:29 || timer: 1.188\n",
      "[  0]     110 || B: 1.480 | C: 2.438 | M: 2.537 | S: 0.402 | I: 1.298 | T: 8.156 || ETA: 22:16:07 || timer: 0.494\n",
      "[  0]     120 || B: 1.479 | C: 2.335 | M: 2.494 | S: 0.386 | I: 0.866 | T: 7.560 || ETA: 22:13:10 || timer: 0.485\n",
      "[  0]     130 || B: 1.417 | C: 2.254 | M: 2.383 | S: 0.379 | I: 0.589 | T: 7.022 || ETA: 22:11:11 || timer: 0.490\n",
      "[  0]     140 || B: 1.375 | C: 2.185 | M: 2.357 | S: 0.360 | I: 0.448 | T: 6.724 || ETA: 22:08:59 || timer: 0.480\n",
      "[  0]     150 || B: 1.376 | C: 2.141 | M: 2.368 | S: 0.342 | I: 0.358 | T: 6.585 || ETA: 22:07:36 || timer: 0.497\n",
      "[  0]     160 || B: 1.340 | C: 2.089 | M: 2.350 | S: 0.326 | I: 0.331 | T: 6.437 || ETA: 22:07:05 || timer: 0.507\n",
      "[  0]     170 || B: 1.309 | C: 2.055 | M: 2.325 | S: 0.313 | I: 0.293 | T: 6.296 || ETA: 22:06:33 || timer: 0.489\n",
      "[  0]     180 || B: 1.279 | C: 1.999 | M: 2.265 | S: 0.296 | I: 0.280 | T: 6.120 || ETA: 22:05:31 || timer: 0.518\n",
      "[  0]     190 || B: 1.267 | C: 1.976 | M: 2.275 | S: 0.295 | I: 0.246 | T: 6.058 || ETA: 22:07:01 || timer: 0.481\n",
      "Saving state, iter: 200\n",
      "[  0]     200 || B: 1.261 | C: 1.969 | M: 2.232 | S: 0.284 | I: 0.235 | T: 5.982 || ETA: 22:15:22 || timer: 1.164\n",
      "[  0]     210 || B: 1.209 | C: 1.931 | M: 2.171 | S: 0.273 | I: 0.211 | T: 5.796 || ETA: 22:14:31 || timer: 0.482\n",
      "[  0]     220 || B: 1.207 | C: 1.913 | M: 2.163 | S: 0.257 | T: 5.540 || ETA: 22:13:43 || timer: 0.498\n",
      "[  0]     230 || B: 1.197 | C: 1.898 | M: 2.180 | S: 0.249 | I: 0.209 | T: 5.733 || ETA: 22:13:18 || timer: 0.487\n",
      "[  0]     240 || B: 1.231 | C: 1.908 | M: 2.217 | S: 0.246 | I: 0.209 | T: 5.810 || ETA: 22:12:33 || timer: 0.513\n",
      "[  0]     250 || B: 1.221 | C: 1.880 | M: 2.225 | S: 0.223 | I: 0.218 | T: 5.767 || ETA: 22:11:42 || timer: 0.492\n",
      "[  0]     260 || B: 1.183 | C: 1.851 | M: 2.182 | S: 0.209 | I: 0.213 | T: 5.637 || ETA: 22:11:08 || timer: 0.531\n",
      "[  0]     270 || B: 1.176 | C: 1.831 | M: 2.182 | S: 0.202 | I: 0.216 | T: 5.607 || ETA: 22:10:18 || timer: 0.492\n",
      "[  0]     280 || B: 1.151 | C: 1.802 | M: 2.173 | S: 0.195 | I: 0.213 | T: 5.534 || ETA: 22:09:00 || timer: 0.487\n",
      "[  0]     290 || B: 1.180 | C: 1.801 | M: 2.190 | S: 0.191 | I: 0.223 | T: 5.585 || ETA: 22:08:49 || timer: 0.500\n",
      "Saving state, iter: 300\n",
      "[  0]     300 || B: 1.160 | C: 1.766 | M: 2.193 | S: 0.193 | I: 0.244 | T: 5.557 || ETA: 22:14:02 || timer: 1.158\n",
      "[  0]     310 || B: 1.177 | C: 1.773 | M: 2.181 | S: 0.195 | I: 0.244 | T: 5.571 || ETA: 22:13:15 || timer: 0.478\n",
      "[  0]     320 || B: 1.162 | C: 1.763 | M: 2.200 | S: 0.198 | I: 0.239 | T: 5.561 || ETA: 22:26:40 || timer: 0.509\n",
      "[  0]     330 || B: 1.174 | C: 1.747 | M: 2.222 | S: 0.199 | I: 0.243 | T: 5.585 || ETA: 22:27:32 || timer: 0.501\n",
      "[  0]     340 || B: 1.114 | C: 1.704 | M: 2.125 | S: 0.190 | I: 0.242 | T: 5.375 || ETA: 22:26:57 || timer: 0.493\n",
      "[  0]     350 || B: 1.168 | C: 1.725 | M: 2.146 | S: 0.200 | I: 0.247 | T: 5.485 || ETA: 22:27:44 || timer: 0.527\n",
      "[  0]     360 || B: 1.193 | C: 1.742 | M: 2.153 | S: 0.195 | I: 0.261 | T: 5.544 || ETA: 22:27:02 || timer: 0.527\n",
      "[  0]     370 || B: 1.208 | C: 1.746 | M: 2.148 | S: 0.191 | I: 0.250 | T: 5.543 || ETA: 22:26:55 || timer: 0.493\n",
      "[  0]     380 || B: 1.279 | C: 1.772 | M: 2.208 | S: 0.189 | I: 0.258 | T: 5.707 || ETA: 22:26:11 || timer: 0.491\n",
      "[  0]     390 || B: 1.239 | C: 1.740 | M: 2.162 | S: 0.182 | I: 0.259 | T: 5.582 || ETA: 22:25:13 || timer: 0.486\n",
      "Saving state, iter: 400\n",
      "[  0]     400 || B: 1.336 | C: 1.758 | M: 2.213 | S: 0.171 | I: 0.234 | T: 5.712 || ETA: 22:29:10 || timer: 1.226\n",
      "[  0]     410 || B: 1.326 | C: 1.742 | M: 2.141 | S: 0.172 | I: 0.237 | T: 5.618 || ETA: 22:28:11 || timer: 0.494\n",
      "[  0]     420 || B: 1.327 | C: 1.730 | M: 2.111 | S: 0.174 | I: 0.234 | T: 5.576 || ETA: 22:27:26 || timer: 0.484\n",
      "[  0]     430 || B: 1.302 | C: 1.719 | M: 2.066 | S: 0.165 | I: 0.234 | T: 5.486 || ETA: 22:27:36 || timer: 0.486\n",
      "[  0]     440 || B: 1.325 | C: 1.725 | M: 2.117 | S: 0.170 | I: 0.224 | T: 5.562 || ETA: 22:27:41 || timer: 0.533\n",
      "[  0]     450 || B: 1.307 | C: 1.693 | M: 2.113 | S: 0.160 | I: 0.213 | T: 5.486 || ETA: 22:27:40 || timer: 0.533\n",
      "[  0]     460 || B: 1.307 | C: 1.687 | M: 2.135 | S: 0.161 | I: 0.197 | T: 5.486 || ETA: 22:28:08 || timer: 0.517\n",
      "[  0]     470 || B: 1.245 | C: 1.659 | M: 2.101 | S: 0.166 | I: 0.195 | T: 5.366 || ETA: 22:27:54 || timer: 0.485\n",
      "[  0]     480 || B: 1.160 | C: 1.627 | M: 2.043 | S: 0.166 | I: 0.182 | T: 5.178 || ETA: 22:26:53 || timer: 0.500\n",
      "[  0]     490 || B: 1.144 | C: 1.625 | M: 2.046 | S: 0.165 | I: 0.165 | T: 5.145 || ETA: 22:26:17 || timer: 0.505\n",
      "Saving state, iter: 500\n",
      "[  0]     500 || B: 1.025 | C: 1.588 | M: 1.963 | S: 0.165 | I: 0.155 | T: 4.897 || ETA: 22:29:43 || timer: 1.257\n",
      "[  0]     510 || B: 0.986 | C: 1.570 | M: 2.013 | S: 0.160 | I: 0.199 | T: 4.928 || ETA: 22:28:56 || timer: 0.489\n",
      "[  0]     520 || B: 0.981 | C: 1.572 | M: 1.994 | S: 0.153 | I: 0.191 | T: 4.891 || ETA: 22:28:25 || timer: 0.499\n",
      "[  0]     530 || B: 0.953 | C: 1.558 | M: 1.957 | S: 0.152 | I: 0.190 | T: 4.810 || ETA: 22:28:25 || timer: 0.515\n",
      "[  0]     540 || B: 0.969 | C: 1.563 | M: 1.993 | S: 0.148 | I: 0.188 | T: 4.862 || ETA: 22:28:24 || timer: 0.499\n",
      "[  0]     550 || B: 0.943 | C: 1.558 | M: 1.956 | S: 0.152 | I: 0.187 | T: 4.798 || ETA: 22:28:56 || timer: 0.526\n",
      "[  0]     560 || B: 0.919 | C: 1.544 | M: 1.949 | S: 0.157 | I: 0.185 | T: 4.753 || ETA: 22:28:34 || timer: 0.503\n",
      "[  0]     570 || B: 0.951 | C: 1.548 | M: 1.959 | S: 0.149 | I: 0.189 | T: 4.796 || ETA: 22:28:52 || timer: 0.505\n"
     ]
    },
    {
     "name": "stdout",
     "output_type": "stream",
     "text": [
      "[  0]     580 || B: 0.940 | C: 1.545 | M: 1.910 | S: 0.150 | I: 0.190 | T: 4.735 || ETA: 22:27:54 || timer: 0.491\n",
      "[  0]     590 || B: 0.999 | C: 1.576 | M: 1.986 | S: 0.151 | I: 0.201 | T: 4.914 || ETA: 22:27:12 || timer: 0.487\n",
      "Saving state, iter: 600\n",
      "[  0]     600 || B: 0.996 | C: 1.560 | M: 1.953 | S: 0.155 | I: 0.202 | T: 4.865 || ETA: 22:30:01 || timer: 1.293\n",
      "[  0]     610 || B: 1.046 | C: 1.573 | M: 1.938 | S: 0.155 | I: 0.157 | T: 4.869 || ETA: 22:29:32 || timer: 0.491\n",
      "[  0]     620 || B: 1.057 | C: 1.570 | M: 1.967 | S: 0.156 | I: 0.150 | T: 4.899 || ETA: 22:29:42 || timer: 0.516\n",
      "[  0]     630 || B: 1.082 | C: 1.569 | M: 1.965 | S: 0.160 | I: 0.149 | T: 4.925 || ETA: 22:29:11 || timer: 0.495\n",
      "[  0]     640 || B: 1.067 | C: 1.560 | M: 1.950 | S: 0.171 | I: 0.147 | T: 4.894 || ETA: 22:28:29 || timer: 0.517\n",
      "[  0]     650 || B: 1.049 | C: 1.526 | M: 1.940 | S: 0.172 | I: 0.139 | T: 4.826 || ETA: 22:28:00 || timer: 0.489\n",
      "[  0]     660 || B: 1.053 | C: 1.512 | M: 1.909 | S: 0.168 | I: 0.142 | T: 4.784 || ETA: 22:27:12 || timer: 0.488\n",
      "[  0]     670 || B: 1.065 | C: 1.542 | M: 1.927 | S: 0.170 | I: 0.136 | T: 4.840 || ETA: 22:27:03 || timer: 0.489\n",
      "[  0]     680 || B: 1.088 | C: 1.547 | M: 2.015 | S: 0.172 | I: 0.125 | T: 4.947 || ETA: 22:27:19 || timer: 0.522\n",
      "[  0]     690 || B: 1.095 | C: 1.539 | M: 1.993 | S: 0.169 | I: 0.122 | T: 4.918 || ETA: 22:27:36 || timer: 0.519\n",
      "Saving state, iter: 700\n",
      "[  0]     700 || B: 1.098 | C: 1.545 | M: 1.999 | S: 0.161 | I: 0.126 | T: 4.929 || ETA: 22:29:40 || timer: 1.172\n",
      "[  0]     710 || B: 1.089 | C: 1.539 | M: 2.027 | S: 0.154 | I: 0.129 | T: 4.939 || ETA: 22:29:16 || timer: 0.498\n",
      "[  0]     720 || B: 1.068 | C: 1.535 | M: 2.000 | S: 0.152 | I: 0.131 | T: 4.885 || ETA: 22:29:06 || timer: 0.494\n",
      "[  0]     730 || B: 1.063 | C: 1.538 | M: 2.010 | S: 0.145 | I: 0.132 | T: 4.888 || ETA: 22:29:30 || timer: 0.511\n",
      "[  0]     740 || B: 1.071 | C: 1.513 | M: 2.007 | S: 0.133 | I: 0.137 | T: 4.861 || ETA: 22:29:35 || timer: 0.515\n",
      "[  0]     750 || B: 1.075 | C: 1.533 | M: 1.970 | S: 0.125 | I: 0.144 | T: 4.847 || ETA: 22:29:04 || timer: 0.493\n",
      "[  0]     760 || B: 1.102 | C: 1.549 | M: 2.026 | S: 0.122 | I: 0.151 | T: 4.951 || ETA: 22:28:27 || timer: 0.490\n",
      "[  0]     770 || B: 1.066 | C: 1.489 | M: 1.985 | S: 0.122 | I: 0.155 | T: 4.817 || ETA: 22:28:05 || timer: 0.493\n",
      "[  0]     780 || B: 1.133 | C: 1.494 | M: 1.999 | S: 0.123 | I: 0.166 | T: 4.915 || ETA: 22:28:02 || timer: 0.518\n",
      "[  0]     790 || B: 1.106 | C: 1.463 | M: 1.977 | S: 0.117 | I: 0.162 | T: 4.826 || ETA: 22:27:48 || timer: 0.504\n",
      "Saving state, iter: 800\n",
      "[  0]     800 || B: 1.150 | C: 1.465 | M: 2.011 | S: 0.126 | I: 0.164 | T: 4.916 || ETA: 22:29:35 || timer: 1.208\n",
      "[  0]     810 || B: 1.156 | C: 1.456 | M: 2.072 | S: 0.128 | I: 0.173 | T: 4.985 || ETA: 22:29:22 || timer: 0.503\n",
      "[  0]     820 || B: 1.142 | C: 1.444 | M: 2.083 | S: 0.132 | I: 0.177 | T: 4.978 || ETA: 22:29:18 || timer: 0.500\n",
      "[  0]     830 || B: 1.119 | C: 1.443 | M: 2.070 | S: 0.132 | I: 0.173 | T: 4.937 || ETA: 22:28:46 || timer: 0.489\n",
      "[  0]     840 || B: 1.128 | C: 1.492 | M: 2.081 | S: 0.136 | I: 0.192 | T: 5.030 || ETA: 22:28:13 || timer: 0.487\n",
      "[  0]     850 || B: 1.140 | C: 1.496 | M: 2.101 | S: 0.145 | I: 0.196 | T: 5.079 || ETA: 22:28:03 || timer: 0.537\n",
      "[  0]     860 || B: 1.108 | C: 1.482 | M: 2.063 | S: 0.149 | I: 0.194 | T: 4.996 || ETA: 22:27:54 || timer: 0.501\n",
      "[  0]     870 || B: 1.147 | C: 1.521 | M: 2.093 | S: 0.149 | I: 0.194 | T: 5.103 || ETA: 22:28:07 || timer: 0.490\n",
      "[  0]     880 || B: 1.085 | C: 1.500 | M: 2.035 | S: 0.142 | I: 0.187 | T: 4.950 || ETA: 22:27:39 || timer: 0.495\n",
      "[  0]     890 || B: 1.123 | C: 1.534 | M: 2.068 | S: 0.148 | I: 0.197 | T: 5.070 || ETA: 22:27:16 || timer: 0.487\n",
      "Saving state, iter: 900\n",
      "[  0]     900 || B: 1.049 | C: 1.515 | M: 2.041 | S: 0.139 | I: 0.195 | T: 4.939 || ETA: 22:29:00 || timer: 1.165\n",
      "[  0]     910 || B: 1.049 | C: 1.543 | M: 1.988 | S: 0.141 | I: 0.185 | T: 4.906 || ETA: 22:28:49 || timer: 0.489\n",
      "[  0]     920 || B: 1.077 | C: 1.571 | M: 2.005 | S: 0.136 | I: 0.197 | T: 4.987 || ETA: 22:28:51 || timer: 0.519\n",
      "[  0]     930 || B: 1.063 | C: 1.549 | M: 1.984 | S: 0.134 | I: 0.192 | T: 4.922 || ETA: 22:28:30 || timer: 0.510\n",
      "[  0]     940 || B: 1.055 | C: 1.525 | M: 2.039 | S: 0.129 | I: 0.190 | T: 4.939 || ETA: 22:28:01 || timer: 0.496\n",
      "[  0]     950 || B: 1.034 | C: 1.513 | M: 2.051 | S: 0.142 | I: 0.187 | T: 4.927 || ETA: 22:27:39 || timer: 0.523\n",
      "[  0]     960 || B: 1.039 | C: 1.506 | M: 2.053 | S: 0.145 | I: 0.183 | T: 4.927 || ETA: 22:27:14 || timer: 0.488\n",
      "[  0]     970 || B: 1.061 | C: 1.520 | M: 2.145 | S: 0.144 | I: 0.187 | T: 5.056 || ETA: 22:27:04 || timer: 0.502\n",
      "[  0]     980 || B: 1.047 | C: 1.536 | M: 2.115 | S: 0.145 | I: 0.194 | T: 5.038 || ETA: 22:26:45 || timer: 0.500\n",
      "[  0]     990 || B: 0.984 | C: 1.508 | M: 2.043 | S: 0.143 | I: 0.187 | T: 4.865 || ETA: 22:26:29 || timer: 0.483\n",
      "Saving state, iter: 1000\n",
      "[  0]    1000 || B: 0.983 | C: 1.497 | M: 2.010 | S: 0.150 | I: 0.184 | T: 4.825 || ETA: 22:28:03 || timer: 1.157\n",
      "[  0]    1010 || B: 0.981 | C: 1.502 | M: 1.992 | S: 0.148 | I: 0.184 | T: 4.808 || ETA: 22:28:16 || timer: 0.534\n",
      "[  0]    1020 || B: 0.980 | C: 1.496 | M: 2.005 | S: 0.148 | I: 0.162 | T: 4.792 || ETA: 22:32:42 || timer: 0.484\n",
      "[  0]    1030 || B: 1.000 | C: 1.509 | M: 2.034 | S: 0.150 | I: 0.161 | T: 4.855 || ETA: 22:32:44 || timer: 0.517\n",
      "[  0]    1040 || B: 0.991 | C: 1.521 | M: 1.940 | S: 0.148 | I: 0.139 | T: 4.739 || ETA: 22:33:36 || timer: 0.529\n",
      "[  0]    1050 || B: 1.016 | C: 1.524 | M: 1.964 | S: 0.125 | I: 0.130 | T: 4.759 || ETA: 22:33:55 || timer: 0.518\n",
      "[  0]    1060 || B: 1.026 | C: 1.518 | M: 1.972 | S: 0.121 | I: 0.129 | T: 4.766 || ETA: 22:34:09 || timer: 0.489\n",
      "[  0]    1070 || B: 1.008 | C: 1.531 | M: 1.922 | S: 0.125 | I: 0.126 | T: 4.712 || ETA: 22:34:18 || timer: 0.486\n",
      "[  0]    1080 || B: 1.036 | C: 1.551 | M: 1.974 | S: 0.125 | I: 0.137 | T: 4.823 || ETA: 22:34:30 || timer: 0.497\n",
      "[  0]    1090 || B: 1.115 | C: 1.582 | M: 2.100 | S: 0.125 | I: 0.148 | T: 5.071 || ETA: 22:34:51 || timer: 0.521\n",
      "Saving state, iter: 1100\n",
      "[  0]    1100 || B: 1.191 | C: 1.630 | M: 2.190 | S: 0.116 | I: 0.157 | T: 5.284 || ETA: 22:35:12 || timer: 1.369\n",
      "[  0]    1110 || B: 1.187 | C: 1.600 | M: 2.228 | S: 0.123 | I: 0.158 | T: 5.295 || ETA: 22:35:31 || timer: 0.509\n",
      "[  0]    1120 || B: 1.186 | C: 1.580 | M: 2.223 | S: 0.122 | I: 0.165 | T: 5.277 || ETA: 22:35:48 || timer: 0.539\n",
      "[  0]    1130 || B: 1.195 | C: 1.586 | M: 2.244 | S: 0.118 | I: 0.175 | T: 5.318 || ETA: 22:35:57 || timer: 0.488\n",
      "[  0]    1140 || B: 1.206 | C: 1.554 | M: 2.247 | S: 0.123 | I: 0.181 | T: 5.311 || ETA: 22:36:19 || timer: 0.487\n",
      "[  0]    1150 || B: 1.213 | C: 1.556 | M: 2.228 | S: 0.121 | I: 0.188 | T: 5.305 || ETA: 22:36:34 || timer: 0.515\n",
      "[  0]    1160 || B: 1.210 | C: 1.558 | M: 2.214 | S: 0.122 | I: 0.191 | T: 5.295 || ETA: 22:36:47 || timer: 0.517\n",
      "[  0]    1170 || B: 1.199 | C: 1.494 | M: 2.186 | S: 0.122 | I: 0.186 | T: 5.187 || ETA: 22:37:26 || timer: 0.529\n",
      "[  0]    1180 || B: 1.197 | C: 1.490 | M: 2.161 | S: 0.121 | I: 0.170 | T: 5.138 || ETA: 22:39:16 || timer: 0.707\n",
      "[  0]    1190 || B: 1.168 | C: 1.482 | M: 2.089 | S: 0.116 | I: 0.164 | T: 5.019 || ETA: 22:40:09 || timer: 0.499\n",
      "Saving state, iter: 1200\n",
      "[  0]    1200 || B: 1.112 | C: 1.465 | M: 2.033 | S: 0.116 | I: 0.158 | T: 4.884 || ETA: 22:53:46 || timer: 6.132\n",
      "[  0]    1210 || B: 1.138 | C: 1.474 | M: 2.094 | S: 0.106 | I: 0.151 | T: 4.963 || ETA: 22:57:08 || timer: 0.493\n",
      "[  0]    1220 || B: 1.102 | C: 1.463 | M: 2.102 | S: 0.104 | I: 0.158 | T: 4.928 || ETA: 22:57:12 || timer: 0.503\n",
      "[  0]    1230 || B: 1.071 | C: 1.440 | M: 2.052 | S: 0.107 | I: 0.154 | T: 4.824 || ETA: 22:56:56 || timer: 0.483\n",
      "[  0]    1240 || B: 1.063 | C: 1.430 | M: 2.058 | S: 0.105 | I: 0.155 | T: 4.811 || ETA: 22:57:20 || timer: 0.483\n",
      "[  0]    1250 || B: 1.050 | C: 1.451 | M: 2.056 | S: 0.109 | I: 0.155 | T: 4.822 || ETA: 22:57:30 || timer: 0.489\n",
      "[  0]    1260 || B: 1.026 | C: 1.440 | M: 2.035 | S: 0.105 | I: 0.143 | T: 4.749 || ETA: 22:57:17 || timer: 0.498\n",
      "[  0]    1270 || B: 0.995 | C: 1.462 | M: 2.018 | S: 0.106 | I: 0.144 | T: 4.725 || ETA: 22:57:30 || timer: 0.487\n",
      "[  0]    1280 || B: 1.000 | C: 1.437 | M: 2.035 | S: 0.105 | I: 0.146 | T: 4.723 || ETA: 22:57:55 || timer: 0.490\n"
     ]
    },
    {
     "name": "stdout",
     "output_type": "stream",
     "text": [
      "[  0]    1290 || B: 1.006 | C: 1.442 | M: 2.010 | S: 0.112 | I: 0.160 | T: 4.730 || ETA: 22:57:44 || timer: 0.502\n",
      "Saving state, iter: 1300\n",
      "[  0]    1300 || B: 1.070 | C: 1.448 | M: 2.057 | S: 0.113 | I: 0.159 | T: 4.848 || ETA: 22:58:08 || timer: 1.355\n",
      "[  0]    1310 || B: 1.071 | C: 1.470 | M: 2.003 | S: 0.118 | I: 0.162 | T: 4.824 || ETA: 22:58:07 || timer: 0.488\n",
      "[  0]    1320 || B: 1.076 | C: 1.503 | M: 1.963 | S: 0.120 | I: 0.151 | T: 4.813 || ETA: 22:53:33 || timer: 0.489\n",
      "[  0]    1330 || B: 1.128 | C: 1.543 | M: 2.002 | S: 0.118 | I: 0.153 | T: 4.944 || ETA: 22:53:12 || timer: 0.532\n",
      "[  0]    1340 || B: 1.088 | C: 1.528 | M: 1.928 | S: 0.113 | I: 0.139 | T: 4.795 || ETA: 22:52:55 || timer: 0.481\n",
      "[  0]    1350 || B: 1.078 | C: 1.486 | M: 1.918 | S: 0.110 | I: 0.133 | T: 4.725 || ETA: 22:52:18 || timer: 0.486\n",
      "[  0]    1360 || B: 1.116 | C: 1.514 | M: 1.972 | S: 0.111 | I: 0.142 | T: 4.856 || ETA: 22:52:18 || timer: 0.496\n",
      "[  0]    1370 || B: 1.144 | C: 1.515 | M: 1.982 | S: 0.102 | I: 0.150 | T: 4.893 || ETA: 22:52:08 || timer: 0.533\n",
      "[  0]    1380 || B: 1.131 | C: 1.502 | M: 1.984 | S: 0.103 | I: 0.141 | T: 4.862 || ETA: 22:52:07 || timer: 0.504\n",
      "[  0]    1390 || B: 1.107 | C: 1.477 | M: 2.002 | S: 0.102 | I: 0.142 | T: 4.831 || ETA: 22:52:07 || timer: 0.490\n",
      "Saving state, iter: 1400\n",
      "[  0]    1400 || B: 1.090 | C: 1.477 | M: 2.015 | S: 0.104 | I: 0.145 | T: 4.831 || ETA: 22:52:45 || timer: 1.466\n",
      "^C\n",
      "Stopping early. Saving network...\n"
     ]
    }
   ],
   "source": [
    "!python train.py --config=yolact_plus_resnet50_person_config --resume=weights/yolact_plus_resnet50_54_800000.pth --start_iter=0 --batch_size=2 --save_interval=100"
   ]
  },
  {
   "cell_type": "markdown",
   "metadata": {},
   "source": [
    "# Evaluate the model trained only on the person class"
   ]
  },
  {
   "cell_type": "markdown",
   "metadata": {},
   "source": [
    "Evaluate on COCO val person"
   ]
  },
  {
   "cell_type": "code",
   "execution_count": 9,
   "metadata": {},
   "outputs": [
    {
     "name": "stdout",
     "output_type": "stream",
     "text": [
      "Config not specified. Parsed yolact_plus_resnet50_person_config from the file name.\n",
      "\n",
      "loading annotations into memory...\n",
      "Done (t=0.28s)\n",
      "creating index...\n",
      "index created!\n",
      "Loading model... Done.\n",
      "\n",
      "Processing Images  ███░░░░░░░░░░░░░░░░░░░░░░░░░░░    302 /   2693 (11.21%)     6.98 fps        Warning: Augmentation output an example with no ground truth. Resampling...\n",
      "Processing Images  █████████░░░░░░░░░░░░░░░░░░░░░    863 /   2693 (32.05%)     7.17 fps        Warning: Augmentation output an example with no ground truth. Resampling...\n",
      "Processing Images  ██████████████████████████████   2693 /   2693 (100.00%)     8.03 fps        \n",
      "Saving data...\n",
      "Calculating mAP...\n",
      "\n",
      "       |  all  |  .50  |  .55  |  .60  |  .65  |  .70  |  .75  |  .80  |  .85  |  .90  |  .95  |\n",
      "-------+-------+-------+-------+-------+-------+-------+-------+-------+-------+-------+-------+\n",
      "   box | 38.91 | 66.20 | 63.26 | 59.25 | 54.42 | 48.26 | 40.28 | 31.00 | 19.30 |  6.81 |  0.35 |\n",
      "  mask | 35.79 | 62.37 | 58.91 | 55.23 | 50.39 | 44.21 | 36.43 | 27.00 | 16.38 |  6.34 |  0.59 |\n",
      "-------+-------+-------+-------+-------+-------+-------+-------+-------+-------+-------+-------+\n",
      "\n"
     ]
    }
   ],
   "source": [
    "!python eval.py --trained_model=weights/yolact_plus_resnet50_person_0_1400.pth --dataset=coco2017_dataset_person_2"
   ]
  }
 ],
 "metadata": {
  "accelerator": "GPU",
  "colab": {
   "collapsed_sections": [
    "RytTtzjjKVXQ",
    "FzviTOC-NlH2",
    "AdA08pp_P-K8"
   ],
   "name": "YOLACT.ipynb",
   "provenance": [
    {
     "file_id": "1ncRxvmNR-iTtQCscj2UFSGV8ZQX_LN0M",
     "timestamp": 1583925601088
    }
   ]
  },
  "kernelspec": {
   "display_name": "Python 3",
   "language": "python",
   "name": "python3"
  },
  "language_info": {
   "codemirror_mode": {
    "name": "ipython",
    "version": 3
   },
   "file_extension": ".py",
   "mimetype": "text/x-python",
   "name": "python",
   "nbconvert_exporter": "python",
   "pygments_lexer": "ipython3",
   "version": "3.7.0"
  }
 },
 "nbformat": 4,
 "nbformat_minor": 1
}
