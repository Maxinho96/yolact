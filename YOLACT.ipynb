{
 "cells": [
  {
   "cell_type": "markdown",
   "metadata": {
    "colab_type": "text",
    "id": "YWzKi-xiGX-i"
   },
   "source": [
    "# YOLACT Google Colab Notebook"
   ]
  },
  {
   "cell_type": "markdown",
   "metadata": {
    "colab_type": "text",
    "id": "AdA08pp_P-K8"
   },
   "source": [
    "# Run Inference on Video\n"
   ]
  },
  {
   "cell_type": "code",
   "execution_count": 11,
   "metadata": {
    "colab": {
     "base_uri": "https://localhost:8080/",
     "height": 139
    },
    "colab_type": "code",
    "executionInfo": {
     "elapsed": 51766,
     "status": "ok",
     "timestamp": 1583926581448,
     "user": {
      "displayName": "Massimiliano Bruni",
      "photoUrl": "https://lh3.googleusercontent.com/a-/AOh14Gjd0ZdLh3uO5WPmF3BVkqF4IR9eGMHGfL_V558yxw=s64",
      "userId": "05343770827636047489"
     },
     "user_tz": -60
    },
    "id": "5BBQqP3FQ0wN",
    "outputId": "df07032d-e941-4e9a-ceda-fee460202c86",
    "scrolled": true
   },
   "outputs": [
    {
     "name": "stdout",
     "output_type": "stream",
     "text": [
      "Config not specified. Parsed yolact_plus_resnet50_config from the file name.\n",
      "\n",
      "Loading model... Done.\n",
      "Initializing model... Done.\n",
      "\n",
      "Processing FPS: 0.00 | Video Playback FPS: 9.34 | Frames in Buffer: 0    %)     9.34 fps        \n"
     ]
    }
   ],
   "source": [
    "file_path = \"data/volleyball.mp4\"\n",
    "output_path = \"data/volleyball_output.mp4\"\n",
    "!python eval.py --trained_model=weights/yolact_plus_resnet50_54_800000.pth --score_threshold=0.15 --top_k=15 --video={file_path}:{output_path}"
   ]
  },
  {
   "cell_type": "markdown",
   "metadata": {
    "colab_type": "text",
    "id": "RkFkBITGfG96"
   },
   "source": [
    "# Evaluate the model pretrained on the whole 80 classes"
   ]
  },
  {
   "cell_type": "markdown",
   "metadata": {
    "colab_type": "text",
    "id": "GpxdPRwYVEFn"
   },
   "source": [
    "## COCO val"
   ]
  },
  {
   "cell_type": "markdown",
   "metadata": {
    "colab_type": "text",
    "id": "ShnX3VOmyP5u"
   },
   "source": [
    "Evaluate on COCO val\n"
   ]
  },
  {
   "cell_type": "code",
   "execution_count": 2,
   "metadata": {
    "colab": {
     "base_uri": "https://localhost:8080/",
     "height": 340
    },
    "colab_type": "code",
    "executionInfo": {
     "elapsed": 1058876,
     "status": "ok",
     "timestamp": 1583955692544,
     "user": {
      "displayName": "Massimiliano Bruni",
      "photoUrl": "https://lh3.googleusercontent.com/a-/AOh14Gjd0ZdLh3uO5WPmF3BVkqF4IR9eGMHGfL_V558yxw=s64",
      "userId": "05343770827636047489"
     },
     "user_tz": -60
    },
    "id": "du2hvWBiyQkI",
    "outputId": "a1968914-aace-403e-d46b-d0d9a44cfdb0"
   },
   "outputs": [
    {
     "name": "stdout",
     "output_type": "stream",
     "text": [
      "Config not specified. Parsed yolact_plus_resnet50_config from the file name.\n",
      "\n",
      "loading annotations into memory...\n",
      "Done (t=0.45s)\n",
      "creating index...\n",
      "index created!\n",
      "Loading model... Done.\n",
      "\n",
      "Processing Images  ██████████████████████████████   4952 /   4952 (100.00%)     6.25 fps        \n",
      "Saving data...\n",
      "Calculating mAP...\n",
      "\n",
      "       |  all  |  .50  |  .55  |  .60  |  .65  |  .70  |  .75  |  .80  |  .85  |  .90  |  .95  |\n",
      "-------+-------+-------+-------+-------+-------+-------+-------+-------+-------+-------+-------+\n",
      "   box | 34.94 | 55.41 | 53.17 | 50.49 | 47.40 | 43.20 | 37.83 | 30.48 | 20.95 |  9.30 |  1.15 |\n",
      "  mask | 33.69 | 52.72 | 50.23 | 47.29 | 44.45 | 40.50 | 35.59 | 29.91 | 21.88 | 11.93 |  2.43 |\n",
      "-------+-------+-------+-------+-------+-------+-------+-------+-------+-------+-------+-------+\n",
      "\n"
     ]
    }
   ],
   "source": [
    "!python eval.py --trained_model=weights/yolact_plus_resnet50_54_800000.pth"
   ]
  },
  {
   "cell_type": "markdown",
   "metadata": {
    "colab_type": "text",
    "id": "A5BfrIHEVH5G"
   },
   "source": [
    "## COCO test-dev"
   ]
  },
  {
   "cell_type": "markdown",
   "metadata": {
    "colab_type": "text",
    "id": "YR3uQEwdkB9c"
   },
   "source": [
    "Evaluate on COCO test-dev\n"
   ]
  },
  {
   "cell_type": "code",
   "execution_count": 12,
   "metadata": {
    "colab": {
     "base_uri": "https://localhost:8080/",
     "height": 306
    },
    "colab_type": "code",
    "executionInfo": {
     "elapsed": 7692,
     "status": "ok",
     "timestamp": 1583959699001,
     "user": {
      "displayName": "Massimiliano Bruni",
      "photoUrl": "https://lh3.googleusercontent.com/a-/AOh14Gjd0ZdLh3uO5WPmF3BVkqF4IR9eGMHGfL_V558yxw=s64",
      "userId": "05343770827636047489"
     },
     "user_tz": -60
    },
    "id": "lmFTV9uslmZh",
    "outputId": "6414ce52-6635-49bf-ad20-f1bbf1a8005d"
   },
   "outputs": [
    {
     "name": "stdout",
     "output_type": "stream",
     "text": [
      "[Errno 2] No such file or directory: '/content/yolact'\n",
      "/media/max/Storage/Codice/yolact\n",
      "Config not specified. Parsed yolact_plus_resnet50_config from the file name.\n",
      "\n",
      "loading annotations into memory...\n",
      "Done (t=0.38s)\n",
      "creating index...\n",
      "index created!\n",
      "Loading model... Done.\n",
      "\n",
      "Processing Images  ░░░░░░░░░░░░░░░░░░░░░░░░░░░░░░     64 /  20288 ( 0.32%)     3.83 fps        ^C\n",
      "Stopping...\n"
     ]
    }
   ],
   "source": [
    "!python eval.py --trained_model=weights/yolact_plus_resnet50_54_800000.pth --dataset=coco2017_testdev_dataset --output_coco_json"
   ]
  },
  {
   "cell_type": "markdown",
   "metadata": {
    "colab_type": "text",
    "id": "lwxgZpcfVOtX"
   },
   "source": [
    "## COCO val person"
   ]
  },
  {
   "cell_type": "markdown",
   "metadata": {},
   "source": [
    "Evaluate on COCO val person"
   ]
  },
  {
   "cell_type": "code",
   "execution_count": 24,
   "metadata": {
    "colab": {
     "base_uri": "https://localhost:8080/",
     "height": 392
    },
    "colab_type": "code",
    "executionInfo": {
     "elapsed": 413138,
     "status": "error",
     "timestamp": 1584012091241,
     "user": {
      "displayName": "Massimiliano Bruni",
      "photoUrl": "https://lh3.googleusercontent.com/a-/AOh14Gjd0ZdLh3uO5WPmF3BVkqF4IR9eGMHGfL_V558yxw=s64",
      "userId": "05343770827636047489"
     },
     "user_tz": -60
    },
    "id": "bD9LHe68ZhT0",
    "outputId": "1a3fa6b6-78c8-4c2b-db30-dcd94fa201be"
   },
   "outputs": [
    {
     "name": "stdout",
     "output_type": "stream",
     "text": [
      "Config not specified. Parsed yolact_plus_resnet50_config from the file name.\n",
      "\n",
      "loading annotations into memory...\n",
      "Done (t=0.30s)\n",
      "creating index...\n",
      "index created!\n",
      "Loading model... Done.\n",
      "\n",
      "Processing Images  ███░░░░░░░░░░░░░░░░░░░░░░░░░░░    302 /   2693 (11.21%)     7.78 fps        Warning: Augmentation output an example with no ground truth. Resampling...\n",
      "Processing Images  █████████░░░░░░░░░░░░░░░░░░░░░    863 /   2693 (32.05%)     7.89 fps        Warning: Augmentation output an example with no ground truth. Resampling...\n",
      "Processing Images  ██████████████████████████████   2693 /   2693 (100.00%)     7.51 fps        \n",
      "Saving data...\n",
      "Calculating mAP...\n",
      "\n",
      "       |  all  |  .50  |  .55  |  .60  |  .65  |  .70  |  .75  |  .80  |  .85  |  .90  |  .95  |\n",
      "-------+-------+-------+-------+-------+-------+-------+-------+-------+-------+-------+-------+\n",
      "   box | 41.23 | 68.68 | 65.88 | 62.16 | 57.06 | 50.98 | 42.76 | 33.46 | 21.61 |  9.16 |  0.60 |\n",
      "  mask | 37.47 | 64.17 | 60.83 | 57.00 | 52.03 | 46.08 | 38.74 | 28.99 | 18.25 |  7.37 |  1.20 |\n",
      "-------+-------+-------+-------+-------+-------+-------+-------+-------+-------+-------+-------+\n",
      "\n"
     ]
    }
   ],
   "source": [
    "!python eval.py --trained_model=weights/yolact_plus_resnet50_54_800000.pth --dataset=coco2017_dataset_person_1"
   ]
  },
  {
   "cell_type": "code",
   "execution_count": null,
   "metadata": {},
   "outputs": [],
   "source": []
  }
 ],
 "metadata": {
  "accelerator": "GPU",
  "colab": {
   "collapsed_sections": [
    "RytTtzjjKVXQ",
    "FzviTOC-NlH2",
    "AdA08pp_P-K8"
   ],
   "name": "YOLACT.ipynb",
   "provenance": [
    {
     "file_id": "1ncRxvmNR-iTtQCscj2UFSGV8ZQX_LN0M",
     "timestamp": 1583925601088
    }
   ]
  },
  "kernelspec": {
   "display_name": "Python 3",
   "language": "python",
   "name": "python3"
  },
  "language_info": {
   "codemirror_mode": {
    "name": "ipython",
    "version": 3
   },
   "file_extension": ".py",
   "mimetype": "text/x-python",
   "name": "python",
   "nbconvert_exporter": "python",
   "pygments_lexer": "ipython3",
   "version": "3.7.0"
  }
 },
 "nbformat": 4,
 "nbformat_minor": 1
}
